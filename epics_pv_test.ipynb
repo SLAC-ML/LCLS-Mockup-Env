{
 "cells": [
  {
   "cell_type": "code",
   "execution_count": 1,
   "id": "fcbeb07b-0293-4127-80cf-b9438ef4af6f",
   "metadata": {},
   "outputs": [],
   "source": [
    "import time\n",
    "import epics"
   ]
  },
  {
   "cell_type": "markdown",
   "id": "4433f72d-8086-4ae2-8374-00b8067c0343",
   "metadata": {},
   "source": [
    "#### Test"
   ]
  },
  {
   "cell_type": "code",
   "execution_count": 2,
   "id": "89be0363-db8e-4246-a88d-69942c9ec1c5",
   "metadata": {},
   "outputs": [],
   "source": [
    "pv = epics.get_pv('MTEST:RAND')"
   ]
  },
  {
   "cell_type": "code",
   "execution_count": 3,
   "id": "6661f9ec-3d81-4054-adad-05acefda2d31",
   "metadata": {},
   "outputs": [
    {
     "data": {
      "text/plain": [
       "0.0"
      ]
     },
     "execution_count": 3,
     "metadata": {},
     "output_type": "execute_result"
    }
   ],
   "source": [
    "pv.get()"
   ]
  },
  {
   "cell_type": "markdown",
   "id": "836b2055-4559-4ff5-8de3-c6229f3410c9",
   "metadata": {},
   "source": [
    "#### Set `BCTRL` of some solenoid"
   ]
  },
  {
   "cell_type": "code",
   "execution_count": 4,
   "id": "79f3c88d-e37a-49f2-93b0-68fb4fb9b1f1",
   "metadata": {},
   "outputs": [],
   "source": [
    "pv = epics.get_pv('SOLN:IN20:121:BCTRL')"
   ]
  },
  {
   "cell_type": "markdown",
   "id": "14370cac-4290-4092-88eb-29d382f049d0",
   "metadata": {},
   "source": [
    "Check current control value"
   ]
  },
  {
   "cell_type": "code",
   "execution_count": 5,
   "id": "a9c2359d-dcb3-493c-9ff5-4a55090d635a",
   "metadata": {},
   "outputs": [
    {
     "data": {
      "text/plain": [
       "0.0"
      ]
     },
     "execution_count": 5,
     "metadata": {},
     "output_type": "execute_result"
    }
   ],
   "source": [
    "pv.get()"
   ]
  },
  {
   "cell_type": "markdown",
   "id": "730bb7a0-8c06-485b-a3b0-dcb8cf1a35fa",
   "metadata": {},
   "source": [
    "Reset control value"
   ]
  },
  {
   "cell_type": "code",
   "execution_count": 6,
   "id": "70cfae7f-8122-46ce-a496-7fd9d5964842",
   "metadata": {},
   "outputs": [
    {
     "data": {
      "text/plain": [
       "1"
      ]
     },
     "execution_count": 6,
     "metadata": {},
     "output_type": "execute_result"
    }
   ],
   "source": [
    "pv.put(0)"
   ]
  },
  {
   "cell_type": "markdown",
   "id": "a6d3b247-af8b-4f7f-a2f0-78e15def5700",
   "metadata": {},
   "source": [
    "Check high and low bound"
   ]
  },
  {
   "cell_type": "code",
   "execution_count": 7,
   "id": "8749d778-a8da-41e1-b32e-cf264af1f6c6",
   "metadata": {},
   "outputs": [],
   "source": [
    "pv_h = epics.get_pv('SOLN:IN20:121:BCTRL.DRVH')"
   ]
  },
  {
   "cell_type": "code",
   "execution_count": 8,
   "id": "cddbfb26-cd6f-496e-86ec-eb3e6a206a51",
   "metadata": {},
   "outputs": [
    {
     "data": {
      "text/plain": [
       "10.0"
      ]
     },
     "execution_count": 8,
     "metadata": {},
     "output_type": "execute_result"
    }
   ],
   "source": [
    "pv_h.get()"
   ]
  },
  {
   "cell_type": "code",
   "execution_count": 9,
   "id": "4042f930-997e-470f-ae2d-455ad89ee6ba",
   "metadata": {},
   "outputs": [],
   "source": [
    "pv_l = epics.get_pv('SOLN:IN20:121:BCTRL.DRVL')"
   ]
  },
  {
   "cell_type": "code",
   "execution_count": 10,
   "id": "a99f2f61-522e-4584-afec-355ead78a04b",
   "metadata": {},
   "outputs": [
    {
     "data": {
      "text/plain": [
       "-10.0"
      ]
     },
     "execution_count": 10,
     "metadata": {},
     "output_type": "execute_result"
    }
   ],
   "source": [
    "pv_l.get()"
   ]
  },
  {
   "cell_type": "markdown",
   "id": "476e5649-1b79-4bc9-a501-6b1e3e98f342",
   "metadata": {},
   "source": [
    "Set `BCTRL` and monitor the changes of `BACT`"
   ]
  },
  {
   "cell_type": "code",
   "execution_count": 11,
   "id": "ed176454-2b55-443c-a04e-125f6ab9d1e0",
   "metadata": {},
   "outputs": [],
   "source": [
    "pv_act = epics.get_pv('SOLN:IN20:121:BACT')"
   ]
  },
  {
   "cell_type": "code",
   "execution_count": 12,
   "id": "d0f3d037-34b9-4a44-a58a-4734ba4d8219",
   "metadata": {},
   "outputs": [
    {
     "data": {
      "text/plain": [
       "0.0"
      ]
     },
     "execution_count": 12,
     "metadata": {},
     "output_type": "execute_result"
    }
   ],
   "source": [
    "pv_act.get()"
   ]
  },
  {
   "cell_type": "code",
   "execution_count": 13,
   "id": "6a1bd5f1-666a-4393-9c72-5334d9af49f0",
   "metadata": {},
   "outputs": [
    {
     "name": "stdout",
     "output_type": "stream",
     "text": [
      "0.0\n",
      "0.21052631578947367\n",
      "0.42105263157894735\n",
      "0.631578947368421\n",
      "0.8421052631578947\n",
      "1.0526315789473684\n",
      "1.263157894736842\n",
      "1.5789473684210527\n",
      "1.789473684210526\n",
      "1.894736842105263\n",
      "2.0\n",
      "2.0\n",
      "2.0\n",
      "2.0\n",
      "2.0\n",
      "2.0\n",
      "2.0\n",
      "2.0\n",
      "2.0\n",
      "2.0\n"
     ]
    },
    {
     "name": "stderr",
     "output_type": "stream",
     "text": [
      "CA.Client.Exception...............................................\n",
      "    Warning: \"Virtual circuit disconnect\"\n",
      "    Context: \"10.0.0.27:5064\"\n",
      "    Source File: ../cac.cpp line 1237\n",
      "    Current Time: Mon Mar 21 2022 16:13:46.279085463\n",
      "..................................................................\n"
     ]
    }
   ],
   "source": [
    "pv.put(2)\n",
    "\n",
    "for i in range(20):\n",
    "    time.sleep(0.2)\n",
    "    print(pv_act.get())"
   ]
  },
  {
   "cell_type": "code",
   "execution_count": null,
   "id": "0da39511-0d2f-4b51-9aa4-3fa6b9fda642",
   "metadata": {},
   "outputs": [],
   "source": []
  }
 ],
 "metadata": {
  "kernelspec": {
   "display_name": "Python 3 (ipykernel)",
   "language": "python",
   "name": "python3"
  },
  "language_info": {
   "codemirror_mode": {
    "name": "ipython",
    "version": 3
   },
   "file_extension": ".py",
   "mimetype": "text/x-python",
   "name": "python",
   "nbconvert_exporter": "python",
   "pygments_lexer": "ipython3",
   "version": "3.7.12"
  }
 },
 "nbformat": 4,
 "nbformat_minor": 5
}
